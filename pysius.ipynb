{
 "cells": [
  {
   "cell_type": "markdown",
   "metadata": {},
   "source": [
    "# Pysius - a Python solver for Blausius equation"
   ]
  },
  {
   "cell_type": "code",
   "execution_count": 1,
   "metadata": {},
   "outputs": [],
   "source": [
    "import numpy as np"
   ]
  },
  {
   "cell_type": "markdown",
   "metadata": {},
   "source": [
    "Let $f(\\eta)$ be the non-dimensional stream function, with $\\eta$ being the similarity variable. Blausius equation reads:\n",
    "\n",
    "$$f''' + \\frac{1}{2}ff'' = 0$$\n",
    "\n",
    "This is a third order ODE, that therefore can be cast to a system of 3 first order ODEs:\n",
    "\n",
    "$$\\begin{cases}\n",
    "f' = u\\\\\n",
    "u'  = \\xi\\\\\n",
    "\\xi' = -\\frac{1}{2}f\\xi\n",
    "\\end{cases}$$\n",
    "\n",
    "the first two rows representing de-facto the definitions of the additional variables $f$ and $\\xi$. Boundary conditions are:\n",
    "\n",
    "$$f(0)=0$$\n",
    "$$u(0)=0$$\n",
    "$$\\lim_{\\eta \\to \\infty}u(\\eta)=\\int_0^\\infty \\xi d\\eta = 1$$\n",
    "\n",
    "A complete set of initial conditions is not available (the value of $\\xi$ at $\\eta=0$ is not provided). This makes it impossible to solve the equation with a time $\\eta$-marching scheme (meaning, starting from initial conditions towards higher values of eta), hence they need to be solved nonlinearly."
   ]
  },
  {
   "cell_type": "markdown",
   "metadata": {},
   "source": [
    "The theoretical domain would be $\\eta\\in[0,\\infty)$; a discretisation is needed. Here, $\\infty$ is approximated with a high enough value `eta_max`, while the parameter `N` indicates on how many nodes the function is evaluated (including extremes, so including $0$ and `eta_max`. `deta` is the spacing between nodes.\n",
    "\n",
    "_Hint: try starting from a low number of nodes and a low value for_ `eta_max` _and gradually increase them. Do this until no substantial change in the final solution is observed._"
   ]
  },
  {
   "cell_type": "code",
   "execution_count": 2,
   "metadata": {},
   "outputs": [],
   "source": [
    "eta_max = 20 # extreme of domain\n",
    "N = 1000 # number of nodes\n",
    "deta = eta_max / (N-1)"
   ]
  },
  {
   "cell_type": "markdown",
   "metadata": {},
   "source": [
    "Next up, it has to be decided how to store the unknowns in memory. There are three variables, $f$, $u$ and $\\xi$, and $N$ nodes - which adds up to $3N$ unknowns. All variables are stored in a one-dimensional array $y$ of size $3N$:"
   ]
  },
  {
   "cell_type": "code",
   "execution_count": 3,
   "metadata": {},
   "outputs": [],
   "source": [
    "y = np.zeros(3*N)"
   ]
  },
  {
   "cell_type": "markdown",
   "metadata": {},
   "source": [
    "It is conventionally decided that the first N elements of `y` represent $\\xi$ at each of the nodes, namely:\n",
    "```python\n",
    "xi = y[0:N] # where xi[n-1] represents xi at the n-th node\n",
    "```\n",
    "notice that the first extreme ($0$) is inclusive, the second ($N$) is not. The other variables just follow:\n",
    "```python\n",
    "u = y[N:2*N]\n",
    "f = y[2*N:3*N]\n",
    "```"
   ]
  },
  {
   "cell_type": "markdown",
   "metadata": {},
   "source": [
    "Using a forward-Euler discretisation, the equation can be evaluated at each node $n$ as:\n",
    "\n",
    "$$\n",
    "\\left(\n",
    "\\begin{bmatrix}\n",
    "\\xi_{n+1}\\\\\n",
    "u_{n+1}\\\\\n",
    "f_{n+1}\n",
    "\\end{bmatrix} - \n",
    "\\begin{bmatrix}\n",
    "\\xi_{n}\\\\\n",
    "u_{n}\\\\\n",
    "f_{n}\n",
    "\\end{bmatrix} \n",
    "\\right) \\frac{1}{\\Delta \\eta} +\n",
    "\\begin{bmatrix}\n",
    "\\frac{1}{2}\\xi_{n}f_n\\\\\n",
    "-\\xi_{n}\\\\\n",
    "-u_{n}\n",
    "\\end{bmatrix} = 0\n",
    "$$\n",
    "\n",
    "Notice that such equation cannot be written for $n=N$ (the last cell), as it would require informations from the cell $N+1$ - which does not exist. Therefore, $3(N-1)$ equations can be written; the remaining 3 equations are provided by boundary conditions, so that the number of equations matches the one of unknowns.\n",
    "\n",
    "This can be written in the current context as:\n",
    "\n",
    "$$\n",
    "Ay + b(y) = 0\n",
    "$$\n",
    "\n",
    "where $A$ is a matrix, vector $b$ is a function of y; this is written so that:\n",
    "- the first $N-1$ rows represent the discretised Blausius equation for $\\xi$\n",
    "- the next row represents the boundary contition for $u(0)$\n",
    "- the next $N-1$ rows represent the discretised Blausius equation for $u$\n",
    "- the next 2 rows represents the boundary condition for $u(\\infty)$\n",
    "- the next row is the boundary condition for $f$ at $0$\n",
    "- the final $N-1$ rows represent the discretised Blausius equation for $f$"
   ]
  },
  {
   "cell_type": "code",
   "execution_count": 4,
   "metadata": {},
   "outputs": [],
   "source": [
    "# Keep in mind that when slicing or using \"range\", the first bound is inclusive\n",
    "# while the second is not!\n",
    "# In this way, for instance, range(1,11) produces an array of numbers from 1 to 10,\n",
    "# which has size 11-1 = 10.\n",
    "\n",
    "A = np.zeros((3*N, 3*N))\n",
    "\n",
    "# Blausius equation for xi (derivative of xi)\n",
    "for ii in range(N-1):\n",
    "    A[ii,ii] = -1/deta\n",
    "    A[ii,ii+1] = 1/deta\n",
    "\n",
    "# boundary condition for u(0)\n",
    "A[N-1, N] = 1\n",
    "\n",
    "# Blausius equation for u (derivative of u)\n",
    "for ii in range(N,2*N-1):\n",
    "    A[ii,ii] = -1/deta\n",
    "    A[ii,ii+1] = 1/deta\n",
    "\n",
    "# boundary conditions for u at etamax ~ infinity\n",
    "A[2*N-1,2*N-1] = 1\n",
    "\n",
    "# boundary condition for f(0)\n",
    "A[2*N,2*N] = 1\n",
    "\n",
    "# Blausius equation for f (derivative of f)\n",
    "for ii in range(2*N+1, 3*N):\n",
    "    A[ii,ii-1] = -1/deta\n",
    "    A[ii,ii] = 1/deta"
   ]
  },
  {
   "cell_type": "code",
   "execution_count": 5,
   "metadata": {},
   "outputs": [],
   "source": [
    "# now, a function returning vector b is defined\n",
    "\n",
    "def b(y):\n",
    "    \n",
    "    result = np.zeros(3*N)\n",
    "    \n",
    "    # Blausius equation for xi (derivative of xi)\n",
    "    for ii in range(N-1):\n",
    "        result[ii] = y[ii]*y[2*N+ii]/2\n",
    "        \n",
    "    # Blausius equation for u (derivative of u)\n",
    "    for ii in range(N,2*N-1):\n",
    "        result[ii] = - y[ii-N]\n",
    "        \n",
    "    # boundary conditions for u at etamax ~ infinity\n",
    "    result[2*N-1] = -1\n",
    "\n",
    "    # Blausius equation for f (derivative of f)\n",
    "    for ii in range(2*N+1, 3*N):\n",
    "        result[ii] = -y[ii-1-N]\n",
    "    \n",
    "    return result"
   ]
  },
  {
   "cell_type": "code",
   "execution_count": 6,
   "metadata": {},
   "outputs": [],
   "source": [
    "# Jacobi's matrix for b; this will come in handy later\n",
    "\n",
    "def db(y):\n",
    "    \n",
    "    result = np.zeros((3*N,3*N))\n",
    "    \n",
    "    # Blausius equation for xi (derivative of xi)\n",
    "    for ii in range(N-1):\n",
    "        result[ii,2*N+ii] = y[ii]/2\n",
    "        result[ii,ii] = y[2*N+ii]/2\n",
    "        \n",
    "    # Blausius equation for u (derivative of u)\n",
    "    for ii in range(N,2*N-1):\n",
    "        result[ii,ii-N] = - 1\n",
    "\n",
    "    # Blausius equation for f (derivative of f)\n",
    "    for ii in range(2*N+1, 3*N):\n",
    "        result[ii,ii-1-N] = -1\n",
    "        \n",
    "    return result"
   ]
  },
  {
   "cell_type": "markdown",
   "metadata": {},
   "source": [
    "We now have a non-linear equation in the form:\n",
    "\n",
    "$$ F(y) = Ay + b(y) = 0$$\n",
    "\n",
    "this can be solved with a Newton-Raphson scheme starting from an initial guess `y0`:\n",
    "\n",
    "$$ y^{\\,k+1} = y^{\\,k} - J^{-1}(y^{\\,k})\\, F(y^{\\,k}) $$\n",
    "\n",
    "where $J$ is the Jacobi's matrix of $F$, $k$ denotes the iteration of the algorithm. Iterations are stopped when a maximum of iteratins `KMAX` is reached or the residual $f(y^{\\,k})$ is below a threshold value `TOLL`."
   ]
  },
  {
   "cell_type": "code",
   "execution_count": 7,
   "metadata": {},
   "outputs": [],
   "source": [
    "# define F and the jacobian J\n",
    "F = lambda yy : A.dot(yy) + b(yy)\n",
    "J = lambda yy : A + db(yy)"
   ]
  },
  {
   "cell_type": "code",
   "execution_count": null,
   "metadata": {},
   "outputs": [],
   "source": [
    "# initial condition (linear profile which respects B.C.)\n",
    "y0 = np.zeros(3*N)\n",
    "y0[0:N] = 0.5*linspace(1,0,n)*deta"
   ]
  },
  {
   "cell_type": "code",
   "execution_count": 11,
   "metadata": {
    "scrolled": false
   },
   "outputs": [
    {
     "name": "stdout",
     "output_type": "stream",
     "text": [
      "0.13122189440825743\n",
      "2.4303756581120597\n",
      "0.6417773081718352\n",
      "0.20098413012794403\n",
      "0.1411738211311502\n",
      "0.42501390161825037\n",
      "0.1527903196647448\n",
      "0.25005579767287067\n",
      "0.1296128350282217\n",
      "25.895091317369406\n",
      "6.506298086234909\n",
      "1.6595941486310906\n",
      "0.44999909083316775\n",
      "0.1579318085116823\n",
      "0.21893819357492242\n",
      "0.1339122997638102\n",
      "1.0048128628377944\n",
      "0.28835174489719667\n",
      "0.13081522079928876\n",
      "3.1351589401983784\n",
      "0.8175462005750362\n",
      "0.24283756328572378\n",
      "0.13001959157954796\n",
      "7.428270325199257\n",
      "1.8900042218349504\n",
      "0.507243291225825\n",
      "0.17026255042286556\n",
      "0.1775789273560215\n",
      "0.1638032527837365\n",
      "0.1952654323613678\n",
      "0.14483291600742873\n",
      "0.3409213175424866\n",
      "0.1374036225688713\n",
      "0.5934808776770184\n",
      "0.1897611022640279\n",
      "0.14926630806429173\n",
      "0.2810962341846074\n",
      "0.1302627632973077\n",
      "5.223509617119454\n",
      "1.3390624686821502\n"
     ]
    },
    {
     "ename": "KeyboardInterrupt",
     "evalue": "",
     "output_type": "error",
     "traceback": [
      "\u001b[0;31m---------------------------------------------------------------------------\u001b[0m",
      "\u001b[0;31mKeyboardInterrupt\u001b[0m                         Traceback (most recent call last)",
      "\u001b[0;32m<ipython-input-11-2f12e7784e84>\u001b[0m in \u001b[0;36m<module>\u001b[0;34m()\u001b[0m\n\u001b[1;32m      5\u001b[0m \u001b[0mexit4it\u001b[0m \u001b[0;34m=\u001b[0m \u001b[0;32mTrue\u001b[0m\u001b[0;34m\u001b[0m\u001b[0;34m\u001b[0m\u001b[0m\n\u001b[1;32m      6\u001b[0m \u001b[0;32mfor\u001b[0m \u001b[0mii\u001b[0m \u001b[0;32min\u001b[0m \u001b[0mrange\u001b[0m\u001b[0;34m(\u001b[0m\u001b[0mKMAX\u001b[0m\u001b[0;34m)\u001b[0m\u001b[0;34m:\u001b[0m\u001b[0;34m\u001b[0m\u001b[0;34m\u001b[0m\u001b[0m\n\u001b[0;32m----> 7\u001b[0;31m     \u001b[0mdy\u001b[0m \u001b[0;34m=\u001b[0m \u001b[0;34m-\u001b[0m \u001b[0mnp\u001b[0m\u001b[0;34m.\u001b[0m\u001b[0mlinalg\u001b[0m\u001b[0;34m.\u001b[0m\u001b[0msolve\u001b[0m\u001b[0;34m(\u001b[0m\u001b[0mJ\u001b[0m\u001b[0;34m(\u001b[0m\u001b[0my0\u001b[0m\u001b[0;34m)\u001b[0m\u001b[0;34m,\u001b[0m\u001b[0mF\u001b[0m\u001b[0;34m(\u001b[0m\u001b[0my0\u001b[0m\u001b[0;34m)\u001b[0m\u001b[0;34m)\u001b[0m\u001b[0;34m\u001b[0m\u001b[0;34m\u001b[0m\u001b[0m\n\u001b[0m\u001b[1;32m      8\u001b[0m     \u001b[0my\u001b[0m \u001b[0;34m=\u001b[0m \u001b[0my0\u001b[0m \u001b[0;34m+\u001b[0m \u001b[0mdy\u001b[0m\u001b[0;34m\u001b[0m\u001b[0;34m\u001b[0m\u001b[0m\n\u001b[1;32m      9\u001b[0m     \u001b[0my0\u001b[0m \u001b[0;34m=\u001b[0m \u001b[0my\u001b[0m\u001b[0;34m\u001b[0m\u001b[0;34m\u001b[0m\u001b[0m\n",
      "\u001b[0;31mKeyboardInterrupt\u001b[0m: "
     ]
    }
   ],
   "source": [
    "KMAX = 100\n",
    "TOLL = 1e-6\n",
    "\n",
    "exit4it = True\n",
    "for ii in range(KMAX):\n",
    "    dy = - np.linalg.solve(J(y0),F(y0))\n",
    "    y = y0 + dy\n",
    "    y0 = y\n",
    "    print(max(F(y)))\n",
    "    if max(abs(dy)) < TOLL:\n",
    "        exit4it = False\n",
    "        print('Algorithm terminated due to satisfactory residual (number of iterations: {}).'.format(ii+1))\n",
    "        break\n",
    "if exit4it:\n",
    "    print('Warning: algorithm was terminated since the iteration threshold has been reached;')\n",
    "    print('converngence might have not been achieved.')"
   ]
  },
  {
   "cell_type": "code",
   "execution_count": null,
   "metadata": {},
   "outputs": [],
   "source": [
    "print(y)"
   ]
  },
  {
   "cell_type": "code",
   "execution_count": null,
   "metadata": {},
   "outputs": [],
   "source": []
  },
  {
   "cell_type": "code",
   "execution_count": null,
   "metadata": {},
   "outputs": [],
   "source": []
  }
 ],
 "metadata": {
  "kernelspec": {
   "display_name": "Python 3",
   "language": "python",
   "name": "python3"
  },
  "language_info": {
   "codemirror_mode": {
    "name": "ipython",
    "version": 3
   },
   "file_extension": ".py",
   "mimetype": "text/x-python",
   "name": "python",
   "nbconvert_exporter": "python",
   "pygments_lexer": "ipython3",
   "version": "3.6.9"
  }
 },
 "nbformat": 4,
 "nbformat_minor": 2
}
